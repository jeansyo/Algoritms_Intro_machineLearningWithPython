{
  "nbformat": 4,
  "nbformat_minor": 0,
  "metadata": {
    "kernelspec": {
      "display_name": "Python 3",
      "language": "python",
      "name": "python3"
    },
    "language_info": {
      "codemirror_mode": {
        "name": "ipython",
        "version": 3
      },
      "file_extension": ".py",
      "mimetype": "text/x-python",
      "name": "python",
      "nbconvert_exporter": "python",
      "pygments_lexer": "ipython3",
      "version": "3.8.5"
    },
    "colab": {
      "name": "Untitled.ipynb",
      "provenance": [],
      "include_colab_link": true
    },
    "accelerator": "GPU"
  },
  "cells": [
    {
      "cell_type": "markdown",
      "metadata": {
        "id": "view-in-github",
        "colab_type": "text"
      },
      "source": [
        "<a href=\"https://colab.research.google.com/github/Jean-Rd/Algoritms_Intro_machineLearningWithPython/blob/master/CNN_clasG%5ED.ipynb\" target=\"_parent\"><img src=\"https://colab.research.google.com/assets/colab-badge.svg\" alt=\"Open In Colab\"/></a>"
      ]
    },
    {
      "cell_type": "code",
      "metadata": {
        "id": "vRQHPp8RdX74"
      },
      "source": [
        "import tensorflow as tf\n",
        "from tensorflow.keras import backend as K\n",
        "import numpy as np\n",
        "import pandas as pd\n",
        "import matplotlib.pyplot as plt\n",
        "import sys\n",
        "import os\n",
        "import zipfile\n",
        "import io\n",
        "\n",
        "from google.colab import files"
      ],
      "execution_count": 84,
      "outputs": []
    },
    {
      "cell_type": "code",
      "metadata": {
        "colab": {
          "base_uri": "https://localhost:8080/",
          "height": 36
        },
        "id": "2UkemXRedjCe",
        "outputId": "e2725edd-f668-4c38-f372-0faa22de6e5b"
      },
      "source": [
        "'''uploaded = files.upload()'''"
      ],
      "execution_count": 85,
      "outputs": [
        {
          "output_type": "execute_result",
          "data": {
            "application/vnd.google.colaboratory.intrinsic+json": {
              "type": "string"
            },
            "text/plain": [
              "'uploaded = files.upload()'"
            ]
          },
          "metadata": {
            "tags": []
          },
          "execution_count": 85
        }
      ]
    },
    {
      "cell_type": "code",
      "metadata": {
        "id": "oLDgMVYIy3PA"
      },
      "source": [
        "data = zipfile.ZipFile('/content/validacion.zip', 'r')\r\n",
        "data.extractall()"
      ],
      "execution_count": 86,
      "outputs": []
    },
    {
      "cell_type": "code",
      "metadata": {
        "id": "49a7HFR8dX8E"
      },
      "source": [
        "K.clear_session()"
      ],
      "execution_count": 87,
      "outputs": []
    },
    {
      "cell_type": "code",
      "metadata": {
        "id": "NZI94OqVdX8H"
      },
      "source": [
        "train = r'/content/validacion'"
      ],
      "execution_count": 88,
      "outputs": []
    },
    {
      "cell_type": "code",
      "metadata": {
        "id": "xHHDCIURdX8J"
      },
      "source": [
        "img_dtagen = tf.keras.preprocessing.image.ImageDataGenerator(\n",
        "                rescale = 1./255,\n",
        "                zoom_range=0.3,\n",
        "                shear_range=0.3,\n",
        "                horizontal_flip=True\n",
        ")"
      ],
      "execution_count": 89,
      "outputs": []
    },
    {
      "cell_type": "code",
      "metadata": {
        "colab": {
          "base_uri": "https://localhost:8080/"
        },
        "id": "ywZi2UX0dX8K",
        "outputId": "0e6c49f2-9a92-4b49-9dff-c84e0db2646c"
      },
      "source": [
        "image_train = img_dtagen.flow_from_directory(\n",
        "    train,\n",
        "    target_size=(150,150),\n",
        "    batch_size=8,\n",
        "    class_mode='categorical'\n",
        ")"
      ],
      "execution_count": 90,
      "outputs": [
        {
          "output_type": "stream",
          "text": [
            "Found 2023 images belonging to 2 classes.\n"
          ],
          "name": "stdout"
        }
      ]
    },
    {
      "cell_type": "code",
      "metadata": {
        "colab": {
          "base_uri": "https://localhost:8080/"
        },
        "id": "5HgHpr-pdX8N",
        "outputId": "c5935af0-6798-4f83-f3c1-3ae2bcd5eae5"
      },
      "source": [
        "image_train.class_indices"
      ],
      "execution_count": 91,
      "outputs": [
        {
          "output_type": "execute_result",
          "data": {
            "text/plain": [
              "{'gato': 0, 'perro': 1}"
            ]
          },
          "metadata": {
            "tags": []
          },
          "execution_count": 91
        }
      ]
    },
    {
      "cell_type": "code",
      "metadata": {
        "colab": {
          "base_uri": "https://localhost:8080/"
        },
        "id": "JlQq_bR-KU4c",
        "outputId": "d36a38d2-204f-4071-dfc7-2e0bfde15fb0"
      },
      "source": [
        "image_train.batch_size"
      ],
      "execution_count": 92,
      "outputs": [
        {
          "output_type": "execute_result",
          "data": {
            "text/plain": [
              "8"
            ]
          },
          "metadata": {
            "tags": []
          },
          "execution_count": 92
        }
      ]
    },
    {
      "cell_type": "code",
      "metadata": {
        "id": "NYS2ZpY2dX8P"
      },
      "source": [
        "model = tf.keras.Sequential([\n",
        "    tf.keras.layers.Conv2D(16, (2,2), padding='valid', input_shape=(150,150,3), activation='relu', strides=(2,2)),\n",
        "    tf.keras.layers.Conv2D(32, (3,3), padding='same', strides=(2,2)),\n",
        "    tf.keras.layers.MaxPool2D(pool_size=(2,2), strides=(2,2), padding='valid'),\n",
        "    tf.keras.layers.Conv2D(64, (2,2), padding='same', strides=(1,1)),\n",
        "    tf.keras.layers.MaxPool2D(pool_size=(3,3), padding='valid', strides=(2,2)),\n",
        "    tf.keras.layers.Flatten(),\n",
        "    tf.keras.layers.Dense(512, activation='relu'),\n",
        "    tf.keras.layers.Dense(512, activation='relu'),\n",
        "    tf.keras.layers.Dropout(0.3),\n",
        "    tf.keras.layers.Dense(2, activation='softmax')\n",
        "])"
      ],
      "execution_count": 93,
      "outputs": []
    },
    {
      "cell_type": "code",
      "metadata": {
        "id": "Bt6UFRqfdX8Q"
      },
      "source": [
        "model.compile(loss=tf.keras.losses.categorical_crossentropy, optimizer=tf.keras.optimizers.Adam(learning_rate=0.0005),\n",
        "              metrics=['accuracy'])"
      ],
      "execution_count": 94,
      "outputs": []
    },
    {
      "cell_type": "code",
      "metadata": {
        "colab": {
          "base_uri": "https://localhost:8080/"
        },
        "id": "ZIbYoflmdX8Q",
        "outputId": "cdd6f2a3-1a1a-4e7e-927c-9c76ba5487fc"
      },
      "source": [
        "step_train = image_train.n // image_train.batch_size\r\n",
        "\r\n",
        "step_train"
      ],
      "execution_count": 95,
      "outputs": [
        {
          "output_type": "execute_result",
          "data": {
            "text/plain": [
              "252"
            ]
          },
          "metadata": {
            "tags": []
          },
          "execution_count": 95
        }
      ]
    },
    {
      "cell_type": "code",
      "metadata": {
        "colab": {
          "base_uri": "https://localhost:8080/"
        },
        "id": "bz9Npy0gdX8S",
        "outputId": "6c5b7450-d48b-4772-aba7-84d6bf246325"
      },
      "source": [
        "history = model.fit_generator(image_train, steps_per_epoch=step_train, epochs=30)"
      ],
      "execution_count": 96,
      "outputs": [
        {
          "output_type": "stream",
          "text": [
            "/usr/local/lib/python3.7/dist-packages/tensorflow/python/keras/engine/training.py:1844: UserWarning: `Model.fit_generator` is deprecated and will be removed in a future version. Please use `Model.fit`, which supports generators.\n",
            "  warnings.warn('`Model.fit_generator` is deprecated and '\n"
          ],
          "name": "stderr"
        },
        {
          "output_type": "stream",
          "text": [
            "Epoch 1/30\n",
            "252/252 [==============================] - 14s 54ms/step - loss: 0.7106 - accuracy: 0.5276\n",
            "Epoch 2/30\n",
            "252/252 [==============================] - 14s 55ms/step - loss: 0.6587 - accuracy: 0.6204\n",
            "Epoch 3/30\n",
            "252/252 [==============================] - 14s 55ms/step - loss: 0.6522 - accuracy: 0.6237\n",
            "Epoch 4/30\n",
            "252/252 [==============================] - 14s 54ms/step - loss: 0.6339 - accuracy: 0.6426\n",
            "Epoch 5/30\n",
            "252/252 [==============================] - 14s 54ms/step - loss: 0.5866 - accuracy: 0.6852\n",
            "Epoch 6/30\n",
            "252/252 [==============================] - 14s 54ms/step - loss: 0.5560 - accuracy: 0.7290\n",
            "Epoch 7/30\n",
            "252/252 [==============================] - 14s 54ms/step - loss: 0.5267 - accuracy: 0.7406\n",
            "Epoch 8/30\n",
            "252/252 [==============================] - 14s 55ms/step - loss: 0.5044 - accuracy: 0.7644\n",
            "Epoch 9/30\n",
            "252/252 [==============================] - 14s 55ms/step - loss: 0.4745 - accuracy: 0.7729\n",
            "Epoch 10/30\n",
            "252/252 [==============================] - 14s 55ms/step - loss: 0.4612 - accuracy: 0.7819\n",
            "Epoch 11/30\n",
            "252/252 [==============================] - 14s 55ms/step - loss: 0.4397 - accuracy: 0.7937\n",
            "Epoch 12/30\n",
            "252/252 [==============================] - 14s 54ms/step - loss: 0.4367 - accuracy: 0.8013\n",
            "Epoch 13/30\n",
            "252/252 [==============================] - 14s 54ms/step - loss: 0.3762 - accuracy: 0.8372\n",
            "Epoch 14/30\n",
            "252/252 [==============================] - 14s 54ms/step - loss: 0.3808 - accuracy: 0.8372\n",
            "Epoch 15/30\n",
            "252/252 [==============================] - 14s 55ms/step - loss: 0.3596 - accuracy: 0.8489\n",
            "Epoch 16/30\n",
            "252/252 [==============================] - 14s 55ms/step - loss: 0.3552 - accuracy: 0.8509\n",
            "Epoch 17/30\n",
            "252/252 [==============================] - 14s 54ms/step - loss: 0.3117 - accuracy: 0.8567\n",
            "Epoch 18/30\n",
            "252/252 [==============================] - 14s 55ms/step - loss: 0.3031 - accuracy: 0.8738\n",
            "Epoch 19/30\n",
            "252/252 [==============================] - 14s 54ms/step - loss: 0.2710 - accuracy: 0.8895\n",
            "Epoch 20/30\n",
            "252/252 [==============================] - 14s 54ms/step - loss: 0.2535 - accuracy: 0.8998\n",
            "Epoch 21/30\n",
            "252/252 [==============================] - 14s 54ms/step - loss: 0.2404 - accuracy: 0.8996\n",
            "Epoch 22/30\n",
            "252/252 [==============================] - 14s 55ms/step - loss: 0.2085 - accuracy: 0.9078\n",
            "Epoch 23/30\n",
            "252/252 [==============================] - 14s 54ms/step - loss: 0.2209 - accuracy: 0.9017\n",
            "Epoch 24/30\n",
            "252/252 [==============================] - 14s 55ms/step - loss: 0.1913 - accuracy: 0.9187\n",
            "Epoch 25/30\n",
            "252/252 [==============================] - 14s 56ms/step - loss: 0.1996 - accuracy: 0.9269\n",
            "Epoch 26/30\n",
            "252/252 [==============================] - 14s 54ms/step - loss: 0.1735 - accuracy: 0.9349\n",
            "Epoch 27/30\n",
            "252/252 [==============================] - 14s 55ms/step - loss: 0.1294 - accuracy: 0.9436\n",
            "Epoch 28/30\n",
            "252/252 [==============================] - 14s 55ms/step - loss: 0.1419 - accuracy: 0.9447\n",
            "Epoch 29/30\n",
            "252/252 [==============================] - 14s 54ms/step - loss: 0.1503 - accuracy: 0.9511\n",
            "Epoch 30/30\n",
            "252/252 [==============================] - 14s 55ms/step - loss: 0.1311 - accuracy: 0.9510\n"
          ],
          "name": "stdout"
        }
      ]
    },
    {
      "cell_type": "code",
      "metadata": {
        "colab": {
          "base_uri": "https://localhost:8080/",
          "height": 320
        },
        "id": "_7FtyWutdX8T",
        "outputId": "724004a7-de5a-4737-a5aa-de80a9956361"
      },
      "source": [
        "pd.DataFrame(history.history).plot(figsize=(9,5))\n",
        "plt.grid()"
      ],
      "execution_count": 97,
      "outputs": [
        {
          "output_type": "display_data",
          "data": {
            "image/png": "[encoded data removed]",
            "text/plain": [
              "<Figure size 648x360 with 1 Axes>"
            ]
          },
          "metadata": {
            "tags": [],
            "needs_background": "light"
          }
        }
      ]
    },
    {
      "cell_type": "code",
      "metadata": {
        "id": "2WYIaYA2dX8W"
      },
      "source": [
        "def predict(file):\n",
        "    \n",
        "    x = tf.keras.preprocessing.image.load_img(file, target_size=(150,150))\n",
        "    x = tf.keras.preprocessing.image.img_to_array(x)\n",
        "    x = np.expand_dims(x, axis=0)\n",
        "    vec = model.predict(x)\n",
        "    \n",
        "    return np.argmax(vec[0])"
      ],
      "execution_count": 98,
      "outputs": []
    },
    {
      "cell_type": "code",
      "metadata": {
        "colab": {
          "base_uri": "https://localhost:8080/"
        },
        "id": "ZmoIECu6dX8W",
        "outputId": "1be277db-c176-437a-b063-f2c85d550feb"
      },
      "source": [
        "image_train.class_indices"
      ],
      "execution_count": 99,
      "outputs": [
        {
          "output_type": "execute_result",
          "data": {
            "text/plain": [
              "{'gato': 0, 'perro': 1}"
            ]
          },
          "metadata": {
            "tags": []
          },
          "execution_count": 99
        }
      ]
    },
    {
      "cell_type": "code",
      "metadata": {
        "id": "myTy2cAXdX8Y"
      },
      "source": [
        "data = zipfile.ZipFile('/content/entrenamiento.zip', 'r')\r\n",
        "data.extractall()"
      ],
      "execution_count": 124,
      "outputs": []
    },
    {
      "cell_type": "code",
      "metadata": {
        "id": "hqNAiOCXdX8Y"
      },
      "source": [
        "test_dtagen = tf.keras.preprocessing.image.ImageDataGenerator(\r\n",
        "    preprocessing_function=tf.keras.applications.mobilenet.preprocess_input\r\n",
        ")"
      ],
      "execution_count": 126,
      "outputs": []
    },
    {
      "cell_type": "code",
      "metadata": {
        "id": "ocYm0QhZTOb6"
      },
      "source": [
        "test_gato = r'/content/test_gato'\r\n",
        "test_perro = r'/content/test_perro'\r\n",
        "\r\n",
        "prub = '/content/prub'"
      ],
      "execution_count": 134,
      "outputs": []
    },
    {
      "cell_type": "code",
      "metadata": {
        "colab": {
          "base_uri": "https://localhost:8080/"
        },
        "id": "zA79B8MlTHHR",
        "outputId": "709a6dad-c06c-4f25-cd17-3301710e91b2"
      },
      "source": [
        "image_test = test_dtagen.flow_from_directory(\r\n",
        "    directory=prub,\r\n",
        "    target_size=(150, 150),\r\n",
        "    color_mode='rgb',\r\n",
        "    batch_size=1,\r\n",
        "    class_mode=None,\r\n",
        "    shuffle=False,\r\n",
        "    seed=4\r\n",
        ")"
      ],
      "execution_count": 135,
      "outputs": [
        {
          "output_type": "stream",
          "text": [
            "Found 524 images belonging to 2 classes.\n"
          ],
          "name": "stdout"
        }
      ]
    },
    {
      "cell_type": "code",
      "metadata": {
        "id": "CPT_oMtfXgCo"
      },
      "source": [
        "image_test.reset()"
      ],
      "execution_count": 136,
      "outputs": []
    },
    {
      "cell_type": "code",
      "metadata": {
        "colab": {
          "base_uri": "https://localhost:8080/"
        },
        "id": "PCEkINjrX13R",
        "outputId": "896b7475-3b63-4906-be11-bb57b7dfe89b"
      },
      "source": [
        "pred = model.predict_generator(image_test, steps=524, verbose=1)"
      ],
      "execution_count": 137,
      "outputs": [
        {
          "output_type": "stream",
          "text": [
            " 30/524 [>.............................] - ETA: 1s"
          ],
          "name": "stdout"
        },
        {
          "output_type": "stream",
          "text": [
            "/usr/local/lib/python3.7/dist-packages/tensorflow/python/keras/engine/training.py:1905: UserWarning: `Model.predict_generator` is deprecated and will be removed in a future version. Please use `Model.predict`, which supports generators.\n",
            "  warnings.warn('`Model.predict_generator` is deprecated and '\n"
          ],
          "name": "stderr"
        },
        {
          "output_type": "stream",
          "text": [
            "524/524 [==============================] - 2s 4ms/step\n"
          ],
          "name": "stdout"
        }
      ]
    },
    {
      "cell_type": "code",
      "metadata": {
        "id": "G5AV6x-IYMl0"
      },
      "source": [
        "arg_pred = np.argmax(pred, axis=1)"
      ],
      "execution_count": 138,
      "outputs": []
    },
    {
      "cell_type": "code",
      "metadata": {
        "colab": {
          "base_uri": "https://localhost:8080/"
        },
        "id": "4uv_wJzMYgqy",
        "outputId": "34545300-b672-425d-eab1-4b34d015cef2"
      },
      "source": [
        "arg_pred.sum()"
      ],
      "execution_count": 139,
      "outputs": [
        {
          "output_type": "execute_result",
          "data": {
            "text/plain": [
              "62"
            ]
          },
          "metadata": {
            "tags": []
          },
          "execution_count": 139
        }
      ]
    },
    {
      "cell_type": "code",
      "metadata": {
        "id": "62U5eT2BYgti"
      },
      "source": [
        ""
      ],
      "execution_count": null,
      "outputs": []
    },
    {
      "cell_type": "code",
      "metadata": {
        "id": "2A77ACYsYgwh"
      },
      "source": [
        ""
      ],
      "execution_count": null,
      "outputs": []
    },
    {
      "cell_type": "code",
      "metadata": {
        "id": "Ai3NKCo6X15t"
      },
      "source": [
        ""
      ],
      "execution_count": null,
      "outputs": []
    },
    {
      "cell_type": "code",
      "metadata": {
        "id": "G7A9VMWwX187"
      },
      "source": [
        ""
      ],
      "execution_count": null,
      "outputs": []
    }
  ]
}